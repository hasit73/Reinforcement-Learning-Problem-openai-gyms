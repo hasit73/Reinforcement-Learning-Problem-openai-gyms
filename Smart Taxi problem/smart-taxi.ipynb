{
 "cells": [
  {
   "cell_type": "markdown",
   "metadata": {},
   "source": [
    "### Import all required modules"
   ]
  },
  {
   "cell_type": "code",
   "execution_count": 31,
   "metadata": {},
   "outputs": [],
   "source": [
    "import gym\n",
    "import numpy as np\n",
    "import random\n",
    "import matplotlib.pyplot as plt\n",
    "from itertools import product\n",
    "from tqdm import tqdm"
   ]
  },
  {
   "cell_type": "markdown",
   "metadata": {},
   "source": [
    "#### create a environment for problem defination"
   ]
  },
  {
   "cell_type": "code",
   "execution_count": 2,
   "metadata": {},
   "outputs": [
    {
     "name": "stdout",
     "output_type": "stream",
     "text": [
      "+---------+\n",
      "|\u001b[35mR\u001b[0m: | : :G|\n",
      "| : | : :\u001b[43m \u001b[0m|\n",
      "| : : : : |\n",
      "| | : | : |\n",
      "|\u001b[34;1mY\u001b[0m| : |B: |\n",
      "+---------+\n",
      "\n"
     ]
    }
   ],
   "source": [
    "# create emvirnoment\n",
    "env = gym.make(\"Taxi-v3\").env\n",
    "\n",
    "# render function used to visualize state of problem.\n",
    "env.render()"
   ]
  },
  {
   "cell_type": "markdown",
   "metadata": {},
   "source": [
    "#### do some basic operations with env and get info about env"
   ]
  },
  {
   "cell_type": "code",
   "execution_count": 3,
   "metadata": {},
   "outputs": [
    {
     "name": "stdout",
     "output_type": "stream",
     "text": [
      "state val :  448\n"
     ]
    }
   ],
   "source": [
    "# configure problem state with new values.\n",
    "# 4 -> taxi row , 2 -> taxi column , 2 -> passenger location , 0 -> destination location.\n",
    "state = env.encode(4,2,2,0)\n",
    "print(\"state val : \",state)\n",
    "\n",
    "# change environment problem state.\n",
    "env.s = state"
   ]
  },
  {
   "cell_type": "code",
   "execution_count": 4,
   "metadata": {},
   "outputs": [
    {
     "name": "stdout",
     "output_type": "stream",
     "text": [
      "+---------+\n",
      "|\u001b[35mR\u001b[0m: | : :G|\n",
      "| : | : : |\n",
      "| : : : : |\n",
      "| | : | : |\n",
      "|\u001b[34;1mY\u001b[0m| :\u001b[43m \u001b[0m|B: |\n",
      "+---------+\n",
      "\n"
     ]
    }
   ],
   "source": [
    "env.render()"
   ]
  },
  {
   "cell_type": "code",
   "execution_count": 5,
   "metadata": {},
   "outputs": [
    {
     "data": {
      "text/plain": [
       "{0: [(1.0, 448, -1, False)],\n",
       " 1: [(1.0, 348, -1, False)],\n",
       " 2: [(1.0, 448, -1, False)],\n",
       " 3: [(1.0, 428, -1, False)],\n",
       " 4: [(1.0, 448, -10, False)],\n",
       " 5: [(1.0, 448, -10, False)]}"
      ]
     },
     "execution_count": 5,
     "metadata": {},
     "output_type": "execute_result"
    }
   ],
   "source": [
    "# env.P is table that contains different information about each state.\n",
    "env.P[448]\n",
    "# parameters order -> (probability, state, reward, goal)"
   ]
  },
  {
   "cell_type": "code",
   "execution_count": 6,
   "metadata": {},
   "outputs": [
    {
     "name": "stdout",
     "output_type": "stream",
     "text": [
      "Observation space :  Discrete(500)\n",
      "Action space :  Discrete(6)\n"
     ]
    }
   ],
   "source": [
    "# oberservation_space -> total states in environment\n",
    "# action_space -> total actions in environment\n",
    "\n",
    "print(\"Observation space : \",env.observation_space)\n",
    "print(\"Action space : \",env.action_space)"
   ]
  },
  {
   "cell_type": "markdown",
   "metadata": {},
   "source": [
    "### Training and evaluation of Agent\n",
    "\n",
    "- first we train agent on set of exmaples -> from the training we got the q-table which helps us to select appropriate action.\n",
    "\n",
    "- Then we evaluate that q-table on the set of examples as the part of evaluation."
   ]
  },
  {
   "cell_type": "code",
   "execution_count": 43,
   "metadata": {
    "scrolled": true
   },
   "outputs": [],
   "source": [
    "\n",
    "def q_learning(alpha,gamma,epsilon,episodes=7000):\n",
    "    \"\"\" This function try to achieve optimize q-table\n",
    "        values by learning set of examples\n",
    "    \"\"\"\n",
    "    \n",
    "    # initialize q-table with all zeros.\n",
    "    q_table = np.zeros((env.observation_space.n,env.action_space.n))\n",
    "\n",
    "    all_penalties = []\n",
    "\n",
    "    for i in range(1,episodes):\n",
    "        \n",
    "        # reset environment\n",
    "        state = env.reset()\n",
    "        \n",
    "        epoch = 0\n",
    "        reward = 0\n",
    "        penalty = 0\n",
    "\n",
    "        done = False\n",
    "\n",
    "        while not done:\n",
    "            # add some randomness to get optimal values of q-table.\n",
    "            if random.uniform(0,1) < 0.1:\n",
    "                action = env.action_space.sample()\n",
    "            else:\n",
    "                # choose action with maximum q-value\n",
    "                action = np.argmax(q_table[state])\n",
    "            \n",
    "            # apply choosen action on environment\n",
    "            next_state, reward, done, info = env.step(action)\n",
    "            \n",
    "            \n",
    "            old_q_value = q_table[state,action]\n",
    "\n",
    "            next_max_q_value = np.max(q_table[next_state])\n",
    "            \n",
    "            # compute new q-value \n",
    "            new_q_value = (1 - alpha) * old_q_value + alpha * ( reward + gamma * next_max_q_value )\n",
    "            \n",
    "            # replace old q-value with newly computed q-value\n",
    "            q_table[state, action] = new_q_value\n",
    "    \n",
    "            if reward == -10:\n",
    "                # maintain one penalty counter\n",
    "                penalty += 1\n",
    "            state = next_state\n",
    "            epoch += 1\n",
    "        \n",
    "        all_penalties.append(penalty)\n",
    "    return evaluate_q_learning(q_table),q_table\n",
    "\n",
    "def evaluate_q_learning(q_table,total_episodes=30):\n",
    "    \"\"\" This function is used to evaluate the q-table\n",
    "        Q-table which we got after training for some number of\n",
    "        episodes that table will be evaluated.\n",
    "    \"\"\"\n",
    "    # for evaluation purpose we have 3 measures\n",
    "    # trip -> number of steps made by agent to reach to the goal - it should be minimum\n",
    "    # penalty -> wrong steps made by agent - it should be minimum\n",
    "    # loops -> sometimes agent would not be able to reach to the goal\n",
    "    #          that's called loops or dead conditions. it should be zero.\n",
    "    \n",
    "    total_trips,total_penalties = 0,0\n",
    "    total_loops = 0\n",
    "    for i in range(total_episodes):\n",
    "\n",
    "        reward = 0\n",
    "        trip_length = 0\n",
    "        penalty = 0\n",
    "        loops = 0\n",
    "        done = False\n",
    "        state = env.reset()\n",
    "        while not done:\n",
    "            # define max trip value if it exceed this max value means it \n",
    "            # consider as loops or dead conditions\n",
    "            if trip_length >= 30:\n",
    "                total_loops+=1\n",
    "                break\n",
    "            action = np.argmax(q_table[state])\n",
    "\n",
    "            next_state, reward, done, info = env.step(action)\n",
    "            state = next_state\n",
    "            if reward == -10:\n",
    "                penalty+=1\n",
    "\n",
    "            trip_length+=1\n",
    "\n",
    "        total_trips += trip_length\n",
    "        total_penalties += penalty\n",
    "    \n",
    "    return {\"avg_penalty\":total_penalties/total_episodes,\n",
    "              \"avg_triplength\":total_trips/total_episodes,\n",
    "              \"avg_loops\":total_loops/total_episodes}"
   ]
  },
  {
   "cell_type": "markdown",
   "metadata": {
    "scrolled": true
   },
   "source": [
    "#### Hyper Parameter tuning\n",
    "\n",
    "##### Three parameters can be tuned here:\n",
    "- alpha or learning rate\n",
    "- gamma or discount function\n",
    "- epsilon (factor of randomness)"
   ]
  },
  {
   "cell_type": "code",
   "execution_count": 32,
   "metadata": {},
   "outputs": [
    {
     "name": "stderr",
     "output_type": "stream",
     "text": [
      "100%|██████████| 64/64 [04:52<00:00,  3.41s/it]\n"
     ]
    }
   ],
   "source": [
    "alpha_list = [0.1,0.2,0.3,0.4]\n",
    "gamma_list = [0.3,0.4,0.5,0.6]\n",
    "epsilon_list = [0.2,0.3,0.4,0.15]\n",
    "\n",
    "stats = {}\n",
    "\n",
    "# product function will used as cartesian product.\n",
    "for a,g,e in tqdm(list(product(alpha_list,gamma_list,epsilon_list))):\n",
    "    stats[f\"alpha={a},gamma={g},epsilon={e}\"] = q_learning(a,g,e)\n"
   ]
  },
  {
   "cell_type": "code",
   "execution_count": 41,
   "metadata": {},
   "outputs": [
    {
     "name": "stdout",
     "output_type": "stream",
     "text": [
      "alpha=0.3,gamma=0.3,epsilon=0.3\n",
      "{'avg_penalty': 0.0, 'avg_triplength': 11.766666666666667, 'avg_loops': 0.0}\n",
      "alpha=0.4,gamma=0.5,epsilon=0.2\n",
      "{'avg_penalty': 0.0, 'avg_triplength': 11.933333333333334, 'avg_loops': 0.0}\n",
      "alpha=0.3,gamma=0.6,epsilon=0.2\n",
      "{'avg_penalty': 0.0, 'avg_triplength': 12.233333333333333, 'avg_loops': 0.0}\n",
      "alpha=0.4,gamma=0.4,epsilon=0.15\n",
      "{'avg_penalty': 0.0, 'avg_triplength': 12.333333333333334, 'avg_loops': 0.0}\n",
      "alpha=0.4,gamma=0.6,epsilon=0.15\n",
      "{'avg_penalty': 0.0, 'avg_triplength': 12.333333333333334, 'avg_loops': 0.0}\n",
      "alpha=0.4,gamma=0.5,epsilon=0.4\n",
      "{'avg_penalty': 0.0, 'avg_triplength': 12.533333333333333, 'avg_loops': 0.0}\n",
      "alpha=0.4,gamma=0.5,epsilon=0.15\n",
      "{'avg_penalty': 0.0, 'avg_triplength': 12.666666666666666, 'avg_loops': 0.0}\n",
      "alpha=0.3,gamma=0.3,epsilon=0.2\n",
      "{'avg_penalty': 0.0, 'avg_triplength': 12.7, 'avg_loops': 0.0}\n",
      "alpha=0.3,gamma=0.5,epsilon=0.3\n",
      "{'avg_penalty': 0.0, 'avg_triplength': 12.7, 'avg_loops': 0.0}\n",
      "alpha=0.2,gamma=0.4,epsilon=0.15\n",
      "{'avg_penalty': 0.0, 'avg_triplength': 12.733333333333333, 'avg_loops': 0.03333333333333333}\n"
     ]
    }
   ],
   "source": [
    "# sort the results based on average trip length \n",
    "for key in sorted(stats,key=lambda x: stats[x][\"avg_triplength\"])[:10]:\n",
    "    print(key)\n",
    "    print(stats[key])\n"
   ]
  },
  {
   "cell_type": "code",
   "execution_count": 1,
   "metadata": {},
   "outputs": [],
   "source": [
    "# sometimes different results will be found for same parameters values just because of randomness.\n",
    "# for ex: alpha=0.3,gamma=0.3,epsilon=0.3 i got average trip length is 11.7\n",
    "# when i again train model with same alpha, gamma and epsilon value then i will get different average trip length\n",
    "# that makes more difficult the process of selecting optimal parameters"
   ]
  },
  {
   "cell_type": "markdown",
   "metadata": {},
   "source": [
    "#### Referance:\n",
    "\n",
    "https://medium.com/analytics-vidhya/a-beginners-guide-to-reinforcement-learning-and-its-basic-implementation-from-scratch-2c0b5444cc49"
   ]
  },
  {
   "cell_type": "code",
   "execution_count": null,
   "metadata": {},
   "outputs": [],
   "source": []
  }
 ],
 "metadata": {
  "kernelspec": {
   "display_name": "Python 3",
   "language": "python",
   "name": "python3"
  },
  "language_info": {
   "codemirror_mode": {
    "name": "ipython",
    "version": 3
   },
   "file_extension": ".py",
   "mimetype": "text/x-python",
   "name": "python",
   "nbconvert_exporter": "python",
   "pygments_lexer": "ipython3",
   "version": "3.8.2"
  }
 },
 "nbformat": 4,
 "nbformat_minor": 4
}
